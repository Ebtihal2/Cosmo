{
 "cells": [
  {
   "cell_type": "code",
   "execution_count": 22,
   "id": "7b2e2a46-cee0-44b5-b0d1-5aba90e18220",
   "metadata": {},
   "outputs": [],
   "source": [
    "import numpy as np\n",
    "import matplotlib.pyplot as plt\n",
    "from scipy.integrate import quad\n",
    "from sympy import *\n",
    "from scipy.integrate import odeint"
   ]
  },
  {
   "cell_type": "markdown",
   "id": "6cf9b4d1-5409-4307-aa13-c79573299ae5",
   "metadata": {},
   "source": [
    "In the following cell I'm calculating $Y_{eq}$ for a W and Z bosons. \\\n",
    "I'm using boltzmann equation to calculate the number density $n$. \n",
    "$$n = \\tfrac{g}{(2 \\pi)^3} \\int_{0}^{\\inf} \\tfrac{p^2}{exp(\\sqrt{p^2+m^2}/T)-1} \\,dx $$\n",
    "\n",
    "$$Y_{eq} = n/T^3$$"
   ]
  },
  {
   "cell_type": "code",
   "execution_count": 23,
   "id": "d90e82e0-bcbf-4460-abcf-f5b606185e1c",
   "metadata": {},
   "outputs": [
    {
     "name": "stderr",
     "output_type": "stream",
     "text": [
      "/tmp/ipykernel_68429/3930679542.py:5: RuntimeWarning: overflow encountered in exp\n",
      "  result = quad(lambda p: p**2/(np.exp(np.sqrt(p**2+m**2)/T)-1),0, np.inf)\n"
     ]
    },
    {
     "data": {
      "text/plain": [
       "0.8106839724807485"
      ]
     },
     "execution_count": 23,
     "metadata": {},
     "output_type": "execute_result"
    }
   ],
   "source": [
    "#This function calculates the equilibrium abundance of a boson.\n",
    "# T is temperature in Gev, M is mass of particle in Gev. \n",
    "#for w and Z bosons, M = 80 Gev. \n",
    "def Equilibrium_abundance(T,m,g):\n",
    "    result = quad(lambda p: p**2/(np.exp(np.sqrt(p**2+m**2)/T)-1),0, np.inf)\n",
    "    Value = ((9/(2*np.pi**2))*result[0])/T**3\n",
    "    return Value\n",
    "\n",
    "Equilibrium_abundance(80,80,9)\n",
    "\n"
   ]
  },
  {
   "cell_type": "markdown",
   "id": "146c2e77-961d-44f6-b679-d0804ab149db",
   "metadata": {},
   "source": [
    "This is where I make a list of all $Y_{eq}$ values. I wanted to make an array, but it was taking me longer than expected to figure it out. \n"
   ]
  },
  {
   "cell_type": "code",
   "execution_count": 24,
   "id": "73c1f4c3-a301-453a-9f9d-f3304a8c138b",
   "metadata": {
    "tags": []
   },
   "outputs": [],
   "source": [
    "#make Yeq list\n",
    "Ts= np.logspace(2, 0, 100)\n",
    "def Yeq_list(Tlist):\n",
    "    Yeq = []\n",
    "    for T in Tlist:\n",
    "        Yeq.append(Equilibrium_abundance(T, 80,9))\n",
    "    return Yeq\n",
    "\n",
    "#Yeq_list(Ts)\n",
    "#print(Yeq)\n",
    "#for i in Yeq: \n",
    "#    if i < 0: \n",
    "#        print(i)"
   ]
  },
  {
   "cell_type": "markdown",
   "id": "a28e1b8f-4821-4ad9-bef6-efef664989d6",
   "metadata": {},
   "source": [
    "This is where I calculate $\\lambda$ eq 6.13 in Huterer"
   ]
  },
  {
   "cell_type": "code",
   "execution_count": 9,
   "id": "e822577d-a8d7-46e8-9f1b-9b2534db24ab",
   "metadata": {},
   "outputs": [
    {
     "data": {
      "text/plain": [
       "7.412642624149934e+26"
      ]
     },
     "execution_count": 9,
     "metadata": {},
     "output_type": "execute_result"
    }
   ],
   "source": [
    "#This function calculates lambda in the expression for particle abundance\n",
    "#where cross_section is particle cross_section, \n",
    "#m is mass, \n",
    "#gstar, is effective number of relativistic degress of freedom\n",
    "#degrees of freedom is g \n",
    "def Lambda(cross_section,m,gstar,g):\n",
    "    #planck mass in Gev \n",
    "    mpl = 1.220890* 10**19\n",
    "    Hubble_constant = 1.66*g**(1/2)*(m**2/mpl)\n",
    "    value = 2*(3.14)**2/45*gstar*((m**3*cross_section)/(Hubble_constant))\n",
    "    return value\n",
    "    \n",
    "Lambda(10**5,80,86.25,9)"
   ]
  },
  {
   "cell_type": "markdown",
   "id": "f6d2acdb-448b-4c81-867b-9db665b08d59",
   "metadata": {},
   "source": [
    "This is the model I came up with by rewriting $dY/dx$ as $dlnY/lnx$\n",
    "\n",
    "$$\\tfrac{dLnY}{dLnx} = - \\tfrac{\\lambda}{x} \\left[Y- \\tfrac{Y_{eq}^2}{Y} \\right]$$"
   ]
  },
  {
   "cell_type": "code",
   "execution_count": 37,
   "id": "d7f7feff-fd56-48db-94e4-00a13dda1331",
   "metadata": {
    "tags": []
   },
   "outputs": [],
   "source": [
    "def model(y,x):\n",
    "    L = 7.412642624149934e+26\n",
    "    dydx = -L/x * (y-Yeq_list(Ts)[1])\n",
    "    return dydx\n"
   ]
  },
  {
   "cell_type": "markdown",
   "id": "2ad97ead-7c27-49c6-ba77-d0f946f650c4",
   "metadata": {},
   "source": [
    "Log of the model I mentioned above."
   ]
  },
  {
   "cell_type": "code",
   "execution_count": 25,
   "id": "95a1fd30-a83f-4a17-8e56-04d6cf223555",
   "metadata": {},
   "outputs": [],
   "source": [
    "def model2(y,x):\n",
    "    L = 7.412642624149934e+26\n",
    "    dydx = -L/np.log(x) * (np.log(y)-Yeq_list(Ts)[1]/np.log(y))\n",
    "    return dydx\n"
   ]
  },
  {
   "cell_type": "markdown",
   "id": "40d84be9-ee0d-4085-a768-373a02cd1a0b",
   "metadata": {},
   "source": [
    "This is the equation given in the book that the question says I need to solve. eq 6.14 "
   ]
  },
  {
   "cell_type": "code",
   "execution_count": 30,
   "id": "321b2bea-c88e-4d0e-8dcb-92272d0a4b74",
   "metadata": {},
   "outputs": [],
   "source": [
    "def model3(y,x):\n",
    "    L = 7.412642624149934e+26\n",
    "    dydx = -L/x**2 * (y**2-Yeq_list(Ts)[1]**2)\n",
    "    return dydx"
   ]
  },
  {
   "cell_type": "code",
   "execution_count": null,
   "id": "b6411eba-1cd7-4a19-95b3-92b6db7bc439",
   "metadata": {},
   "outputs": [],
   "source": [
    "plt.loglog(x,y)\n",
    "plt.xlabel('time')\n",
    "plt.ylabel('y(x)')\n",
    "plt.show()"
   ]
  },
  {
   "cell_type": "markdown",
   "id": "7e34c0a3-039d-4303-8d08-0c4b395e40c5",
   "metadata": {},
   "source": [
    "when I try to solve the ode of any of the 3 models, I get an error that relates to my model diverging. I do not know what to do about it. "
   ]
  },
  {
   "cell_type": "code",
   "execution_count": 41,
   "id": "9ec9c057-c955-4327-b2c9-595123dc8b0b",
   "metadata": {},
   "outputs": [
    {
     "name": "stderr",
     "output_type": "stream",
     "text": [
      "/tmp/ipykernel_68429/3930679542.py:5: RuntimeWarning: overflow encountered in exp\n",
      "  result = quad(lambda p: p**2/(np.exp(np.sqrt(p**2+m**2)/T)-1),0, np.inf)\n"
     ]
    },
    {
     "name": "stdout",
     "output_type": "stream",
     "text": [
      " lsoda--  warning..internal t (=r1) and h (=r2) are\u0000\u0000\n",
      "       such that in the machine, t + h = t on the next step  \n",
      "       (h = step size). solver will continue anyway\u0000\u0000\n",
      "      in above,  r1 =  0.4382026634674D-01   r2 =  0.1915387769078D-31\n",
      " lsoda--  warning..internal t (=r1) and h (=r2) are\u0000\u0000\n",
      "       such that in the machine, t + h = t on the next step  \n",
      "       (h = step size). solver will continue anyway\u0000\u0000\n",
      "      in above,  r1 =  0.4382026634674D-01   r2 =  0.1385761158971D-31\n",
      " lsoda--  warning..internal t (=r1) and h (=r2) are\u0000\u0000\n",
      "       such that in the machine, t + h = t on the next step  \n",
      "       (h = step size). solver will continue anyway\u0000\u0000\n",
      "      in above,  r1 =  0.4382026634674D-01   r2 =  0.2771522317941D-31\n",
      " lsoda--  warning..internal t (=r1) and h (=r2) are\u0000\u0000\n",
      "       such that in the machine, t + h = t on the next step  \n",
      "       (h = step size). solver will continue anyway\u0000\u0000\n",
      "      in above,  r1 =  0.4382026634674D-01   r2 =  0.2771522317941D-31\n",
      " lsoda--  warning..internal t (=r1) and h (=r2) are\u0000\u0000\n",
      "       such that in the machine, t + h = t on the next step  \n",
      "       (h = step size). solver will continue anyway\u0000\u0000\n",
      "      in above,  r1 =  0.4382026634674D-01   r2 =  0.2771522317941D-31\n",
      " lsoda--  warning..internal t (=r1) and h (=r2) are\u0000\u0000\n",
      "       such that in the machine, t + h = t on the next step  \n",
      "       (h = step size). solver will continue anyway\u0000\u0000\n",
      "      in above,  r1 =  0.4382026634674D-01   r2 =  0.2771522317941D-30\n",
      " lsoda--  warning..internal t (=r1) and h (=r2) are\u0000\u0000\n",
      "       such that in the machine, t + h = t on the next step  \n",
      "       (h = step size). solver will continue anyway\u0000\u0000\n",
      "      in above,  r1 =  0.4382026634674D-01   r2 =  0.2771522317941D-30\n",
      " lsoda--  warning..internal t (=r1) and h (=r2) are\u0000\u0000\n",
      "       such that in the machine, t + h = t on the next step  \n",
      "       (h = step size). solver will continue anyway\u0000\u0000\n",
      "      in above,  r1 =  0.4382026634674D-01   r2 =  0.2771522317941D-30\n",
      " lsoda--  warning..internal t (=r1) and h (=r2) are\u0000\u0000\n",
      "       such that in the machine, t + h = t on the next step  \n",
      "       (h = step size). solver will continue anyway\u0000\u0000\n",
      "      in above,  r1 =  0.4382026634674D-01   r2 =  0.2771522317941D-30\n",
      " lsoda--  warning..internal t (=r1) and h (=r2) are\u0000\u0000\n",
      "       such that in the machine, t + h = t on the next step  \n",
      "       (h = step size). solver will continue anyway\u0000\u0000\n",
      "      in above,  r1 =  0.4382026634674D-01   r2 =  0.2771522317941D-29\n",
      " lsoda--  above warning has been issued i1 times.  \u0000\u0000\n",
      "       it will not be issued again for this problem\u0000\u0000\n",
      "      in above message,  i1 =        10\n"
     ]
    },
    {
     "ename": "KeyboardInterrupt",
     "evalue": "",
     "output_type": "error",
     "traceback": [
      "\u001b[0;31m---------------------------------------------------------------------------\u001b[0m",
      "\u001b[0;31mKeyboardInterrupt\u001b[0m                         Traceback (most recent call last)",
      "Input \u001b[0;32mIn [41]\u001b[0m, in \u001b[0;36m<cell line: 8>\u001b[0;34m()\u001b[0m\n\u001b[1;32m      5\u001b[0m x \u001b[38;5;241m=\u001b[39m np\u001b[38;5;241m.\u001b[39mlog(\u001b[38;5;241m80\u001b[39m)\u001b[38;5;241m*\u001b[39mnp\u001b[38;5;241m.\u001b[39mones(\u001b[38;5;241m100\u001b[39m)\u001b[38;5;241m/\u001b[39mnp\u001b[38;5;241m.\u001b[39mlogspace(\u001b[38;5;241m2\u001b[39m,\u001b[38;5;241m0\u001b[39m,\u001b[38;5;241m100\u001b[39m)\n\u001b[1;32m      7\u001b[0m \u001b[38;5;66;03m# solve ODE\u001b[39;00m\n\u001b[0;32m----> 8\u001b[0m y \u001b[38;5;241m=\u001b[39m \u001b[43modeint\u001b[49m\u001b[43m(\u001b[49m\u001b[43mmodel\u001b[49m\u001b[43m,\u001b[49m\u001b[43my0\u001b[49m\u001b[43m,\u001b[49m\u001b[43mx\u001b[49m\u001b[43m)\u001b[49m\n\u001b[1;32m     10\u001b[0m \u001b[38;5;28mprint\u001b[39m(y)\n",
      "File \u001b[0;32m/global/common/software/des/common/Conda_Envs/cosmosis-global/lib/python3.9/site-packages/scipy/integrate/_odepack_py.py:241\u001b[0m, in \u001b[0;36modeint\u001b[0;34m(func, y0, t, args, Dfun, col_deriv, full_output, ml, mu, rtol, atol, tcrit, h0, hmax, hmin, ixpr, mxstep, mxhnil, mxordn, mxords, printmessg, tfirst)\u001b[0m\n\u001b[1;32m    239\u001b[0m t \u001b[38;5;241m=\u001b[39m copy(t)\n\u001b[1;32m    240\u001b[0m y0 \u001b[38;5;241m=\u001b[39m copy(y0)\n\u001b[0;32m--> 241\u001b[0m output \u001b[38;5;241m=\u001b[39m \u001b[43m_odepack\u001b[49m\u001b[38;5;241;43m.\u001b[39;49m\u001b[43modeint\u001b[49m\u001b[43m(\u001b[49m\u001b[43mfunc\u001b[49m\u001b[43m,\u001b[49m\u001b[43m \u001b[49m\u001b[43my0\u001b[49m\u001b[43m,\u001b[49m\u001b[43m \u001b[49m\u001b[43mt\u001b[49m\u001b[43m,\u001b[49m\u001b[43m \u001b[49m\u001b[43margs\u001b[49m\u001b[43m,\u001b[49m\u001b[43m \u001b[49m\u001b[43mDfun\u001b[49m\u001b[43m,\u001b[49m\u001b[43m \u001b[49m\u001b[43mcol_deriv\u001b[49m\u001b[43m,\u001b[49m\u001b[43m \u001b[49m\u001b[43mml\u001b[49m\u001b[43m,\u001b[49m\u001b[43m \u001b[49m\u001b[43mmu\u001b[49m\u001b[43m,\u001b[49m\n\u001b[1;32m    242\u001b[0m \u001b[43m                         \u001b[49m\u001b[43mfull_output\u001b[49m\u001b[43m,\u001b[49m\u001b[43m \u001b[49m\u001b[43mrtol\u001b[49m\u001b[43m,\u001b[49m\u001b[43m \u001b[49m\u001b[43matol\u001b[49m\u001b[43m,\u001b[49m\u001b[43m \u001b[49m\u001b[43mtcrit\u001b[49m\u001b[43m,\u001b[49m\u001b[43m \u001b[49m\u001b[43mh0\u001b[49m\u001b[43m,\u001b[49m\u001b[43m \u001b[49m\u001b[43mhmax\u001b[49m\u001b[43m,\u001b[49m\u001b[43m \u001b[49m\u001b[43mhmin\u001b[49m\u001b[43m,\u001b[49m\n\u001b[1;32m    243\u001b[0m \u001b[43m                         \u001b[49m\u001b[43mixpr\u001b[49m\u001b[43m,\u001b[49m\u001b[43m \u001b[49m\u001b[43mmxstep\u001b[49m\u001b[43m,\u001b[49m\u001b[43m \u001b[49m\u001b[43mmxhnil\u001b[49m\u001b[43m,\u001b[49m\u001b[43m \u001b[49m\u001b[43mmxordn\u001b[49m\u001b[43m,\u001b[49m\u001b[43m \u001b[49m\u001b[43mmxords\u001b[49m\u001b[43m,\u001b[49m\n\u001b[1;32m    244\u001b[0m \u001b[43m                         \u001b[49m\u001b[38;5;28;43mint\u001b[39;49m\u001b[43m(\u001b[49m\u001b[38;5;28;43mbool\u001b[39;49m\u001b[43m(\u001b[49m\u001b[43mtfirst\u001b[49m\u001b[43m)\u001b[49m\u001b[43m)\u001b[49m\u001b[43m)\u001b[49m\n\u001b[1;32m    245\u001b[0m \u001b[38;5;28;01mif\u001b[39;00m output[\u001b[38;5;241m-\u001b[39m\u001b[38;5;241m1\u001b[39m] \u001b[38;5;241m<\u001b[39m \u001b[38;5;241m0\u001b[39m:\n\u001b[1;32m    246\u001b[0m     warning_msg \u001b[38;5;241m=\u001b[39m _msgs[output[\u001b[38;5;241m-\u001b[39m\u001b[38;5;241m1\u001b[39m]] \u001b[38;5;241m+\u001b[39m \u001b[38;5;124m\"\u001b[39m\u001b[38;5;124m Run with full_output = 1 to get quantitative information.\u001b[39m\u001b[38;5;124m\"\u001b[39m\n",
      "Input \u001b[0;32mIn [37]\u001b[0m, in \u001b[0;36mmodel\u001b[0;34m(y, x)\u001b[0m\n\u001b[1;32m      1\u001b[0m \u001b[38;5;28;01mdef\u001b[39;00m \u001b[38;5;21mmodel\u001b[39m(y,x):\n\u001b[1;32m      2\u001b[0m     L \u001b[38;5;241m=\u001b[39m \u001b[38;5;241m7.412642624149934e+26\u001b[39m\n\u001b[0;32m----> 3\u001b[0m     dydx \u001b[38;5;241m=\u001b[39m \u001b[38;5;241m-\u001b[39mL\u001b[38;5;241m/\u001b[39mx \u001b[38;5;241m*\u001b[39m (y\u001b[38;5;241m-\u001b[39m\u001b[43mYeq_list\u001b[49m\u001b[43m(\u001b[49m\u001b[43mTs\u001b[49m\u001b[43m)\u001b[49m[\u001b[38;5;241m1\u001b[39m])\n\u001b[1;32m      4\u001b[0m     \u001b[38;5;28;01mreturn\u001b[39;00m dydx\n",
      "Input \u001b[0;32mIn [24]\u001b[0m, in \u001b[0;36mYeq_list\u001b[0;34m(Tlist)\u001b[0m\n\u001b[1;32m      4\u001b[0m Yeq \u001b[38;5;241m=\u001b[39m []\n\u001b[1;32m      5\u001b[0m \u001b[38;5;28;01mfor\u001b[39;00m T \u001b[38;5;129;01min\u001b[39;00m Tlist:\n\u001b[0;32m----> 6\u001b[0m     Yeq\u001b[38;5;241m.\u001b[39mappend(\u001b[43mEquilibrium_abundance\u001b[49m\u001b[43m(\u001b[49m\u001b[43mT\u001b[49m\u001b[43m,\u001b[49m\u001b[43m \u001b[49m\u001b[38;5;241;43m80\u001b[39;49m\u001b[43m,\u001b[49m\u001b[38;5;241;43m9\u001b[39;49m\u001b[43m)\u001b[49m)\n\u001b[1;32m      7\u001b[0m \u001b[38;5;28;01mreturn\u001b[39;00m Yeq\n",
      "Input \u001b[0;32mIn [23]\u001b[0m, in \u001b[0;36mEquilibrium_abundance\u001b[0;34m(T, m, g)\u001b[0m\n\u001b[1;32m      4\u001b[0m \u001b[38;5;28;01mdef\u001b[39;00m \u001b[38;5;21mEquilibrium_abundance\u001b[39m(T,m,g):\n\u001b[0;32m----> 5\u001b[0m     result \u001b[38;5;241m=\u001b[39m \u001b[43mquad\u001b[49m\u001b[43m(\u001b[49m\u001b[38;5;28;43;01mlambda\u001b[39;49;00m\u001b[43m \u001b[49m\u001b[43mp\u001b[49m\u001b[43m:\u001b[49m\u001b[43m \u001b[49m\u001b[43mp\u001b[49m\u001b[38;5;241;43m*\u001b[39;49m\u001b[38;5;241;43m*\u001b[39;49m\u001b[38;5;241;43m2\u001b[39;49m\u001b[38;5;241;43m/\u001b[39;49m\u001b[43m(\u001b[49m\u001b[43mnp\u001b[49m\u001b[38;5;241;43m.\u001b[39;49m\u001b[43mexp\u001b[49m\u001b[43m(\u001b[49m\u001b[43mnp\u001b[49m\u001b[38;5;241;43m.\u001b[39;49m\u001b[43msqrt\u001b[49m\u001b[43m(\u001b[49m\u001b[43mp\u001b[49m\u001b[38;5;241;43m*\u001b[39;49m\u001b[38;5;241;43m*\u001b[39;49m\u001b[38;5;241;43m2\u001b[39;49m\u001b[38;5;241;43m+\u001b[39;49m\u001b[43mm\u001b[49m\u001b[38;5;241;43m*\u001b[39;49m\u001b[38;5;241;43m*\u001b[39;49m\u001b[38;5;241;43m2\u001b[39;49m\u001b[43m)\u001b[49m\u001b[38;5;241;43m/\u001b[39;49m\u001b[43mT\u001b[49m\u001b[43m)\u001b[49m\u001b[38;5;241;43m-\u001b[39;49m\u001b[38;5;241;43m1\u001b[39;49m\u001b[43m)\u001b[49m\u001b[43m,\u001b[49m\u001b[38;5;241;43m0\u001b[39;49m\u001b[43m,\u001b[49m\u001b[43m \u001b[49m\u001b[43mnp\u001b[49m\u001b[38;5;241;43m.\u001b[39;49m\u001b[43minf\u001b[49m\u001b[43m)\u001b[49m\n\u001b[1;32m      6\u001b[0m     Value \u001b[38;5;241m=\u001b[39m ((\u001b[38;5;241m9\u001b[39m\u001b[38;5;241m/\u001b[39m(\u001b[38;5;241m2\u001b[39m\u001b[38;5;241m*\u001b[39mnp\u001b[38;5;241m.\u001b[39mpi\u001b[38;5;241m*\u001b[39m\u001b[38;5;241m*\u001b[39m\u001b[38;5;241m2\u001b[39m))\u001b[38;5;241m*\u001b[39mresult[\u001b[38;5;241m0\u001b[39m])\u001b[38;5;241m/\u001b[39mT\u001b[38;5;241m*\u001b[39m\u001b[38;5;241m*\u001b[39m\u001b[38;5;241m3\u001b[39m\n\u001b[1;32m      7\u001b[0m     \u001b[38;5;28;01mreturn\u001b[39;00m Value\n",
      "File \u001b[0;32m/global/common/software/des/common/Conda_Envs/cosmosis-global/lib/python3.9/site-packages/scipy/integrate/_quadpack_py.py:351\u001b[0m, in \u001b[0;36mquad\u001b[0;34m(func, a, b, args, full_output, epsabs, epsrel, limit, points, weight, wvar, wopts, maxp1, limlst)\u001b[0m\n\u001b[1;32m    348\u001b[0m flip, a, b \u001b[38;5;241m=\u001b[39m b \u001b[38;5;241m<\u001b[39m a, \u001b[38;5;28mmin\u001b[39m(a, b), \u001b[38;5;28mmax\u001b[39m(a, b)\n\u001b[1;32m    350\u001b[0m \u001b[38;5;28;01mif\u001b[39;00m weight \u001b[38;5;129;01mis\u001b[39;00m \u001b[38;5;28;01mNone\u001b[39;00m:\n\u001b[0;32m--> 351\u001b[0m     retval \u001b[38;5;241m=\u001b[39m \u001b[43m_quad\u001b[49m\u001b[43m(\u001b[49m\u001b[43mfunc\u001b[49m\u001b[43m,\u001b[49m\u001b[43m \u001b[49m\u001b[43ma\u001b[49m\u001b[43m,\u001b[49m\u001b[43m \u001b[49m\u001b[43mb\u001b[49m\u001b[43m,\u001b[49m\u001b[43m \u001b[49m\u001b[43margs\u001b[49m\u001b[43m,\u001b[49m\u001b[43m \u001b[49m\u001b[43mfull_output\u001b[49m\u001b[43m,\u001b[49m\u001b[43m \u001b[49m\u001b[43mepsabs\u001b[49m\u001b[43m,\u001b[49m\u001b[43m \u001b[49m\u001b[43mepsrel\u001b[49m\u001b[43m,\u001b[49m\u001b[43m \u001b[49m\u001b[43mlimit\u001b[49m\u001b[43m,\u001b[49m\n\u001b[1;32m    352\u001b[0m \u001b[43m                   \u001b[49m\u001b[43mpoints\u001b[49m\u001b[43m)\u001b[49m\n\u001b[1;32m    353\u001b[0m \u001b[38;5;28;01melse\u001b[39;00m:\n\u001b[1;32m    354\u001b[0m     \u001b[38;5;28;01mif\u001b[39;00m points \u001b[38;5;129;01mis\u001b[39;00m \u001b[38;5;129;01mnot\u001b[39;00m \u001b[38;5;28;01mNone\u001b[39;00m:\n",
      "File \u001b[0;32m/global/common/software/des/common/Conda_Envs/cosmosis-global/lib/python3.9/site-packages/scipy/integrate/_quadpack_py.py:465\u001b[0m, in \u001b[0;36m_quad\u001b[0;34m(func, a, b, args, full_output, epsabs, epsrel, limit, points)\u001b[0m\n\u001b[1;32m    463\u001b[0m         \u001b[38;5;28;01mreturn\u001b[39;00m _quadpack\u001b[38;5;241m.\u001b[39m_qagse(func,a,b,args,full_output,epsabs,epsrel,limit)\n\u001b[1;32m    464\u001b[0m     \u001b[38;5;28;01melse\u001b[39;00m:\n\u001b[0;32m--> 465\u001b[0m         \u001b[38;5;28;01mreturn\u001b[39;00m \u001b[43m_quadpack\u001b[49m\u001b[38;5;241;43m.\u001b[39;49m\u001b[43m_qagie\u001b[49m\u001b[43m(\u001b[49m\u001b[43mfunc\u001b[49m\u001b[43m,\u001b[49m\u001b[43mbound\u001b[49m\u001b[43m,\u001b[49m\u001b[43minfbounds\u001b[49m\u001b[43m,\u001b[49m\u001b[43margs\u001b[49m\u001b[43m,\u001b[49m\u001b[43mfull_output\u001b[49m\u001b[43m,\u001b[49m\u001b[43mepsabs\u001b[49m\u001b[43m,\u001b[49m\u001b[43mepsrel\u001b[49m\u001b[43m,\u001b[49m\u001b[43mlimit\u001b[49m\u001b[43m)\u001b[49m\n\u001b[1;32m    466\u001b[0m \u001b[38;5;28;01melse\u001b[39;00m:\n\u001b[1;32m    467\u001b[0m     \u001b[38;5;28;01mif\u001b[39;00m infbounds \u001b[38;5;241m!=\u001b[39m \u001b[38;5;241m0\u001b[39m:\n",
      "Input \u001b[0;32mIn [23]\u001b[0m, in \u001b[0;36mEquilibrium_abundance.<locals>.<lambda>\u001b[0;34m(p)\u001b[0m\n\u001b[1;32m      4\u001b[0m \u001b[38;5;28;01mdef\u001b[39;00m \u001b[38;5;21mEquilibrium_abundance\u001b[39m(T,m,g):\n\u001b[0;32m----> 5\u001b[0m     result \u001b[38;5;241m=\u001b[39m quad(\u001b[38;5;28;01mlambda\u001b[39;00m p: \u001b[43mp\u001b[49m\u001b[38;5;241;43m*\u001b[39;49m\u001b[38;5;241;43m*\u001b[39;49m\u001b[38;5;241;43m2\u001b[39;49m\u001b[38;5;241m/\u001b[39m(np\u001b[38;5;241m.\u001b[39mexp(np\u001b[38;5;241m.\u001b[39msqrt(p\u001b[38;5;241m*\u001b[39m\u001b[38;5;241m*\u001b[39m\u001b[38;5;241m2\u001b[39m\u001b[38;5;241m+\u001b[39mm\u001b[38;5;241m*\u001b[39m\u001b[38;5;241m*\u001b[39m\u001b[38;5;241m2\u001b[39m)\u001b[38;5;241m/\u001b[39mT)\u001b[38;5;241m-\u001b[39m\u001b[38;5;241m1\u001b[39m),\u001b[38;5;241m0\u001b[39m, np\u001b[38;5;241m.\u001b[39minf)\n\u001b[1;32m      6\u001b[0m     Value \u001b[38;5;241m=\u001b[39m ((\u001b[38;5;241m9\u001b[39m\u001b[38;5;241m/\u001b[39m(\u001b[38;5;241m2\u001b[39m\u001b[38;5;241m*\u001b[39mnp\u001b[38;5;241m.\u001b[39mpi\u001b[38;5;241m*\u001b[39m\u001b[38;5;241m*\u001b[39m\u001b[38;5;241m2\u001b[39m))\u001b[38;5;241m*\u001b[39mresult[\u001b[38;5;241m0\u001b[39m])\u001b[38;5;241m/\u001b[39mT\u001b[38;5;241m*\u001b[39m\u001b[38;5;241m*\u001b[39m\u001b[38;5;241m3\u001b[39m\n\u001b[1;32m      7\u001b[0m     \u001b[38;5;28;01mreturn\u001b[39;00m Value\n",
      "\u001b[0;31mKeyboardInterrupt\u001b[0m: "
     ]
    }
   ],
   "source": [
    "# initial condition\n",
    "y0 = 2\n",
    "\n",
    "# time points\n",
    "x = np.log(80)*np.ones(100)/np.logspace(2,0,100)\n",
    "\n",
    "# solve ODE\n",
    "y = odeint(model,y0,x)\n",
    "\n",
    "print(y)"
   ]
  },
  {
   "cell_type": "code",
   "execution_count": null,
   "id": "8c889429-34ed-444f-836f-2ebc01342c06",
   "metadata": {},
   "outputs": [],
   "source": []
  }
 ],
 "metadata": {
  "kernelspec": {
   "display_name": "myenv-jupyter",
   "language": "python",
   "name": "myenv-jupyter"
  },
  "language_info": {
   "codemirror_mode": {
    "name": "ipython",
    "version": 3
   },
   "file_extension": ".py",
   "mimetype": "text/x-python",
   "name": "python",
   "nbconvert_exporter": "python",
   "pygments_lexer": "ipython3",
   "version": "3.9.12"
  }
 },
 "nbformat": 4,
 "nbformat_minor": 5
}
