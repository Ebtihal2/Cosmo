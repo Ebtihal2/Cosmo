{
 "cells": [
  {
   "cell_type": "code",
   "execution_count": 4,
   "id": "7b2e2a46-cee0-44b5-b0d1-5aba90e18220",
   "metadata": {},
   "outputs": [],
   "source": [
    "import numpy as np\n",
    "import matplotlib.pyplot as plt\n",
    "from scipy.integrate import quad\n",
    "from sympy import *\n",
    "from scipy.integrate import odeint"
   ]
  },
  {
   "cell_type": "markdown",
   "id": "6cf9b4d1-5409-4307-aa13-c79573299ae5",
   "metadata": {},
   "source": [
    "In the following cell I'm calculating $Y_{eq}$ for a W and Z bosons. \\\n",
    "I'm using boltzmann equation to calculate the number density $n$. \n",
    "$$n = \\tfrac{g}{(2 \\pi)^3} \\int_{0}^{\\inf} \\tfrac{p^2}{exp(\\sqrt{p^2+m^2}/T)-1} \\,dx $$\n",
    "\n",
    "$$Y_{eq} = n/T^3$$"
   ]
  },
  {
   "cell_type": "code",
   "execution_count": 7,
   "id": "d90e82e0-bcbf-4460-abcf-f5b606185e1c",
   "metadata": {},
   "outputs": [ 
    {
     "data": {
      "text/plain": [
       "0.8106839724807485"
      ]
     },
     "execution_count": 7,
     "metadata": {},
     "output_type": "execute_result"
    }
   ],
   "source": [
    "#This function calculates the equilibrium abundance of a boson.\n",
    "# T is temperature in Gev, M is mass of particle in Gev. \n",
    "#for w and Z bosons, M = 80 Gev. \n",
    "def Boltzmann_eq(p,T,m):\n",
    "    integrand = p**2/(np.exp(np.sqrt(p**2+m**2)/T)-1)\n",
    "    return integrand\n",
    "\n",
    "def Equilibrium_abundance(T,m,g):\n",
    "    result = quad(Boltzmann_eq,0, 10000, args = (T,m))\n",
    "    Value = ((9/(2*np.pi**2))*result[0])/T**3\n",
    "    return Value\n",
    "\n",
    "Equilibrium_abundance(80,80,9)\n",
    "\n"
   ]
  },
  {
   "cell_type": "markdown",
   "id": "146c2e77-961d-44f6-b679-d0804ab149db",
   "metadata": {},
   "source": [
    "This where I make a list of Yeq values.\n"
   ]
  },
  {
   "cell_type": "code",
   "execution_count": 13,
   "id": "73c1f4c3-a301-453a-9f9d-f3304a8c138b",
   "metadata": {
    "tags": []
   },
   "outputs": [
    {
     "name": "stderr",
     "output_type": "stream",
     "text": [
      "/tmp/ipykernel_4604/1311843400.py:5: RuntimeWarning: overflow encountered in exp\n",
      "  integrand = p**2/(np.exp(np.sqrt(p**2+m**2)/T)-1)\n",
      "/tmp/ipykernel_4604/1311843400.py:9: IntegrationWarning: The integral is probably divergent, or slowly convergent.\n",
      "  result = quad(Boltzmann_eq,0, 10000, args = (T,m))\n"
     ]
    },
    {
     "data": {
      "text/plain": [
       "array([1.08819277e+00, 1.08863108e+00, 1.08851152e+00, 1.08799917e+00,\n",
       "       1.08720299e+00, 1.08618769e+00, 1.08498569e+00, 1.08360736e+00,\n",
       "       1.08204884e+00, 1.08029736e+00, 1.07833450e+00, 1.07613794e+00,\n",
       "       1.07368228e+00, 1.07093927e+00, 1.06787787e+00, 1.06446408e+00,\n",
       "       1.06066080e+00, 1.05642764e+00, 1.05172079e+00, 1.04649286e+00,\n",
       "       1.04069271e+00, 1.03426544e+00, 1.02715229e+00, 1.01929070e+00,\n",
       "       1.01061438e+00, 1.00105348e+00, 9.90534935e-01, 9.78982835e-01,\n",
       "       9.66319049e-01, 9.52463972e-01, 9.37337500e-01, 9.20860242e-01,\n",
       "       9.02954988e-01, 8.83548472e-01, 8.62573438e-01, 8.39971039e-01,\n",
       "       8.15693555e-01, 7.89707445e-01, 7.61996678e-01, 7.32566325e-01,\n",
       "       7.01446301e-01, 6.68695170e-01, 6.34403834e-01, 5.98698920e-01,\n",
       "       5.61745621e-01, 5.23749677e-01, 4.84958187e-01, 4.45658891e-01,\n",
       "       4.06177552e-01, 3.66873135e-01, 3.28130517e-01, 2.90350635e-01,\n",
       "       2.53938120e-01, 2.19286759e-01, 1.86763387e-01, 1.56691134e-01,\n",
       "       1.29333227e-01, 1.04878772e-01, 8.34320034e-02, 6.50063741e-02,\n",
       "       4.95245300e-02, 3.68246445e-02, 2.66728767e-02, 1.87809198e-02,\n",
       "       1.28268996e-02, 8.47738196e-03, 5.40810286e-03, 3.32127253e-03,\n",
       "       1.95791282e-03, 1.10453081e-03, 5.94334898e-04, 3.03967136e-04,\n",
       "       1.47207315e-04, 6.72340243e-05, 2.88357358e-05, 1.15597107e-05,\n",
       "       4.31008082e-06, 1.48676115e-06, 4.71785127e-07, 1.36882383e-07,\n",
       "       3.60756694e-08, 8.57638936e-09, 1.81906444e-09, 3.42518599e-10,\n",
       "       3.44826714e-11, 5.39479482e-12, 7.32454379e-13, 8.51928321e-14,\n",
       "       8.37870310e-15, 6.87555876e-16, 4.64288159e-17, 2.54278086e-18,\n",
       "       1.11223141e-19, 3.82240928e-21, 1.01423774e-22, 2.03926126e-24,\n",
       "       3.04526902e-26, 3.30567975e-28, 2.54898484e-30, 1.36210668e-32])"
      ]
     },
     "execution_count": 13,
     "metadata": {},
     "output_type": "execute_result"
    }
   ],
   "source": [
    "#make Yeq list\n",
    "Ts= np.logspace(3, 0, 100)\n",
    "def Yeq_list(Tlist):\n",
    "    Yeq = []\n",
    "    for T in Tlist:\n",
    "        Yeq.append(Equilibrium_abundance(T, 80,9))\n",
    "    return np.array(Yeq)\n",
    "Yeq_list(Ts)"
   ]
  },
  {
   "cell_type": "markdown",
   "id": "a28e1b8f-4821-4ad9-bef6-efef664989d6",
   "metadata": {},
   "source": [
    "This is where I calculate $\\lambda$ eq 6.13 in Huterer"
   ]
  },
  {
   "cell_type": "code",
   "execution_count": 14,
   "id": "e822577d-a8d7-46e8-9f1b-9b2534db24ab",
   "metadata": {},
   "outputs": [
    {
     "data": {
      "text/plain": [
       "7.412642624149934e+26"
      ]
     },
     "execution_count": 14,
     "metadata": {},
     "output_type": "execute_result"
    }
   ],
   "source": [
    "#This function calculates lambda in the expression for particle abundance\n",
    "#where cross_section is particle cross_section, \n",
    "#m is mass, \n",
    "#gstar, is effective number of relativistic degress of freedom\n",
    "#degrees of freedom is g \n",
    "def Lambda(cross_section,m,gstar,g):\n",
    "    #planck mass in Gev \n",
    "    mpl = 1.220890* 10**19\n",
    "    Hubble_constant = 1.66*g**(1/2)*(m**2/mpl)\n",
    "    value = 2*(3.14)**2/45*gstar*((m**3*cross_section)/(Hubble_constant))\n",
    "    return value\n",
    "    \n",
    "Lambda(10**5,80,86.25,9)"
   ]
  },
  {
   "cell_type": "markdown",
   "id": "f6d2acdb-448b-4c81-867b-9db665b08d59",
   "metadata": {},
   "source": [
    "This is the model I came up with by rewriting $dY/dx$ as $dlnY/lnx$\n",
    "\n",
    "$$\\tfrac{dLnY}{dLnx} = - \\tfrac{\\lambda}{x} \\left[Y- \\tfrac{Y_{eq}^2}{Y} \\right]$$"
   ]
  },
  {
   "cell_type": "code",
   "execution_count": 15,
   "id": "d7f7feff-fd56-48db-94e4-00a13dda1331",
   "metadata": {
    "tags": []
   },
   "outputs": [],
   "source": [
    "def model(y,x):\n",
    "    L = 7.412642624149934e+26\n",
    "    dydx = -L/x * (y-Yeq_list(Ts)**2/y)\n",
    "    return dydx\n"
   ]
  },
  {
   "cell_type": "markdown",
   "id": "2ad97ead-7c27-49c6-ba77-d0f946f650c4",
   "metadata": {},
   "source": [
    "Log of the model I mentioned above."
   ]
  },
  {
   "cell_type": "code",
   "execution_count": 25,
   "id": "95a1fd30-a83f-4a17-8e56-04d6cf223555",
   "metadata": {},
   "outputs": [],
   "source": [
    "def model2(y,x):\n",
    "    L = 7.412642624149934e+26\n",
    "    dydx = -L/np.log(x) * (np.log(y)-Yeq_list(Ts)[1]/np.log(y))\n",
    "    return dydx\n"
   ]
  },
  {
   "cell_type": "markdown",
   "id": "40d84be9-ee0d-4085-a768-373a02cd1a0b",
   "metadata": {},
   "source": [
    "This is the equation given in the book that the question says I need to solve. eq 6.14 "
   ]
  },
  {
   "cell_type": "code",
   "execution_count": 30,
   "id": "321b2bea-c88e-4d0e-8dcb-92272d0a4b74",
   "metadata": {},
   "outputs": [],
   "source": [
    "def model3(y,x):\n",
    "    L = 7.412642624149934e+26\n",
    "    dydx = -L/x**2 * (y**2-Yeq_list(Ts)**2)\n",
    "    return dydx"
   ]
  },
  {
   "cell_type": "code",
   "execution_count": null,
   "id": "b6411eba-1cd7-4a19-95b3-92b6db7bc439",
   "metadata": {},
   "outputs": [],
   "source": [
    "plt.loglog(x,y)\n",
    "plt.xlabel('time')\n",
    "plt.ylabel('y(x)')\n",
    "plt.show()"
   ]
  },
  {
   "cell_type": "markdown",
   "id": "7e34c0a3-039d-4303-8d08-0c4b395e40c5",
   "metadata": {},
   "source": [
    "when I try to solve the ode of any of the 3 models, I get an error that relates to my model diverging. I do not know what to do about it. "
   ]
  },
  {
   "cell_type": "code",
   "execution_count": null,
   "id": "9ec9c057-c955-4327-b2c9-595123dc8b0b",
   "metadata": {},
   "outputs": [
    {
     "name": "stderr",
     "output_type": "stream",
     "text": [
      "/tmp/ipykernel_4604/1311843400.py:5: RuntimeWarning: overflow encountered in exp\n",
      "  integrand = p**2/(np.exp(np.sqrt(p**2+m**2)/T)-1)\n",
      "/tmp/ipykernel_4604/1311843400.py:9: IntegrationWarning: The integral is probably divergent, or slowly convergent.\n",
      "  result = quad(Boltzmann_eq,0, 10000, args = (T,m))\n"
     ]
    },
    {
     "name": "stdout",
     "output_type": "stream",
     "text": [
      " lsoda--  warning..internal t (=r1) and h (=r2) are\u0000\u0000\n",
      "       such that in the machine, t + h = t on the next step  \n",
      "       (h = step size). solver will continue anyway\u0000\u0000\n",
      "      in above,  r1 =  0.4382026634674D-01   r2 =  0.1384768974573D-31\n",
      " lsoda--  warning..internal t (=r1) and h (=r2) are\u0000\u0000\n",
      "       such that in the machine, t + h = t on the next step  \n",
      "       (h = step size). solver will continue anyway\u0000\u0000\n",
      "      in above,  r1 =  0.4382026634674D-01   r2 =  0.1384768974573D-31\n",
      " lsoda--  warning..internal t (=r1) and h (=r2) are\u0000\u0000\n",
      "       such that in the machine, t + h = t on the next step  \n",
      "       (h = step size). solver will continue anyway\u0000\u0000\n",
      "      in above,  r1 =  0.4382026634674D-01   r2 =  0.2956655753361D-30\n",
      " lsoda--  warning..internal t (=r1) and h (=r2) are\u0000\u0000\n",
      "       such that in the machine, t + h = t on the next step  \n",
      "       (h = step size). solver will continue anyway\u0000\u0000\n",
      "      in above,  r1 =  0.4382026634674D-01   r2 =  0.2956655753361D-30\n",
      " lsoda--  warning..internal t (=r1) and h (=r2) are\u0000\u0000\n",
      "       such that in the machine, t + h = t on the next step  \n",
      "       (h = step size). solver will continue anyway\u0000\u0000\n",
      "      in above,  r1 =  0.4382026634674D-01   r2 =  0.2956655753361D-30\n",
      " lsoda--  warning..internal t (=r1) and h (=r2) are\u0000\u0000\n",
      "       such that in the machine, t + h = t on the next step  \n",
      "       (h = step size). solver will continue anyway\u0000\u0000\n",
      "      in above,  r1 =  0.4382026634674D-01   r2 =  0.1216259037049D-29\n",
      " lsoda--  warning..internal t (=r1) and h (=r2) are\u0000\u0000\n",
      "       such that in the machine, t + h = t on the next step  \n",
      "       (h = step size). solver will continue anyway\u0000\u0000\n",
      "      in above,  r1 =  0.4382026634674D-01   r2 =  0.9215835875120D-30\n",
      " lsoda--  warning..internal t (=r1) and h (=r2) are\u0000\u0000\n",
      "       such that in the machine, t + h = t on the next step  \n",
      "       (h = step size). solver will continue anyway\u0000\u0000\n",
      "      in above,  r1 =  0.4382026634674D-01   r2 =  0.9215835875120D-30\n",
      " lsoda--  warning..internal t (=r1) and h (=r2) are\u0000\u0000\n",
      "       such that in the machine, t + h = t on the next step  \n",
      "       (h = step size). solver will continue anyway\u0000\u0000\n",
      "      in above,  r1 =  0.4382026634674D-01   r2 =  0.9215835875120D-30\n",
      " lsoda--  warning..internal t (=r1) and h (=r2) are\u0000\u0000\n",
      "       such that in the machine, t + h = t on the next step  \n",
      "       (h = step size). solver will continue anyway\u0000\u0000\n",
      "      in above,  r1 =  0.4382026634674D-01   r2 =  0.1843167175024D-29\n",
      " lsoda--  above warning has been issued i1 times.  \u0000\u0000\n",
      "       it will not be issued again for this problem\u0000\u0000\n",
      "      in above message,  i1 =        10\n"
     ]
    }
   ],
   "source": [
    "# initial condition\n",
    "y0 =Yeq_list(Ts)[0]*np.ones(100)\n",
    "\n",
    "# time points\n",
    "x = np.log(80)*np.ones(100)/np.logspace(2,0,100)\n",
    "0\n",
    "# solve ODE\n",
    "y = odeint(model,y0,x)\n",
    "\n",
    "print(y)"
   ]
  },
  {
   "cell_type": "code",
   "execution_count": null,
   "id": "8c889429-34ed-444f-836f-2ebc01342c06",
   "metadata": {},
   "outputs": [],
   "source": [
    "plt.loglog(x,Yeq_list(Ts))\n",
    "x = np.log(80)*np.ones(100)/np.logspace(2,0,100)\n",
    "plt.xlabel('time')\n",
    "plt.ylabel('y(x)')\n",
    "plt.show()"
   ]
  },
  {
   "cell_type": "code",
   "execution_count": null,
   "id": "1b9bf3a5",
   "metadata": {},
   "outputs": [],
   "source": []
  }
 ],
 "metadata": {
  "kernelspec": {
   "display_name": "Python 3 (ipykernel)",
   "language": "python",
   "name": "python3"
  },
  "language_info": {
   "codemirror_mode": {
    "name": "ipython",
    "version": 3
   },
   "file_extension": ".py",
   "mimetype": "text/x-python",
   "name": "python",
   "nbconvert_exporter": "python",
   "pygments_lexer": "ipython3",
   "version": "3.9.12"
  }
 },
 "nbformat": 4,
 "nbformat_minor": 5
}
