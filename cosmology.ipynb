{
 "cells": [
  {
   "cell_type": "code",
   "execution_count": 3,
   "id": "7b2e2a46-cee0-44b5-b0d1-5aba90e18220",
   "metadata": {},
   "outputs": [],
   "source": [
    "import numpy as np\n",
    "import matplotlib.pyplot as plt\n",
    "from scipy.integrate import quad\n",
    "from sympy import *\n",
    "from scipy.integrate import odeint"
   ]
  },
  {
   "cell_type": "markdown",
   "id": "6cf9b4d1-5409-4307-aa13-c79573299ae5",
   "metadata": {},
   "source": [
    "In the following cell I'm calculating $Y_{eq}$ for a W and Z bosons. \\\n",
    "I'm using boltzmann equation to calculate the number density $n$. \n",
    "$$n = \\tfrac{g}{(2 \\pi)^3} \\int_{0}^{\\inf} \\tfrac{p^2}{exp(\\sqrt{p^2+m^2}/T)-1} \\,dx $$\n",
    "\n",
    "$$Y_{eq} = n/T^3$$"
   ]
  },
  {
   "cell_type": "code",
   "execution_count": 4,
   "id": "d90e82e0-bcbf-4460-abcf-f5b606185e1c",
   "metadata": {},
   "outputs": [
    {
     "name": "stderr",
     "output_type": "stream",
     "text": [
      "/tmp/ipykernel_10121/1038210693.py:5: RuntimeWarning: overflow encountered in exp\n",
      "  result = quad(lambda p: p**2/(np.exp(np.sqrt(p**2+m**2)/T)-1),0, np.inf)\n"
     ]
    },
    {
     "data": {
      "text/plain": [
       "0.8106839724807485"
      ]
     },
     "execution_count": 4,
     "metadata": {},
     "output_type": "execute_result"
    }
   ],
   "source": [
    "#This function calculates the equilibrium abundance of a boson.\n",
    "# T is temperature in Gev, M is mass of particle in Gev. \n",
    "#for w and Z bosons, M = 80 Gev. \n",
    "def Equilibrium_abundance(T,m,g):\n",
    "    result = quad(lambda p: p**2/(np.exp(np.sqrt(p**2+m**2)/T)-1),0, np.inf)\n",
    "    Value = ((9/(2*np.pi**2))*result[0])/T**3\n",
    "    return Value\n",
    "\n",
    "Equilibrium_abundance(80,80,9)\n",
    "\n"
   ]
  },
  {
   "cell_type": "markdown",
   "id": "146c2e77-961d-44f6-b679-d0804ab149db",
   "metadata": {},
   "source": [
    "This is where I make a list of all $Y_{eq}$ values. I wanted to make an array, but it was taking me longer than expected to figure it out. \n"
   ]
  },
  {
   "cell_type": "code",
   "execution_count": 5,
   "id": "73c1f4c3-a301-453a-9f9d-f3304a8c138b",
   "metadata": {
    "tags": []
   },
   "outputs": [],
   "source": [
    "#make Yeq list\n",
    "Ts= np.logspace(2, 0, 100)\n",
    "def Yeq_list(Tlist):\n",
    "    Yeq = []\n",
    "    for T in Tlist:\n",
    "        Yeq.append(Equilibrium_abundance(T, 80,9)**2)\n",
    "    return Yeq\n",
    "\n",
    "#Yeq_list(Ts)\n",
    "#print(Yeq)\n",
    "#for i in Yeq: \n",
    "#    if i < 0: \n",
    "#        print(i)"
   ]
  },
  {
   "cell_type": "markdown",
   "id": "a28e1b8f-4821-4ad9-bef6-efef664989d6",
   "metadata": {},
   "source": [
    "This is where I calculate $\\lambda$ eq 6.13 in Huterer"
   ]
  },
  {
   "cell_type": "code",
   "execution_count": 6,
   "id": "e822577d-a8d7-46e8-9f1b-9b2534db24ab",
   "metadata": {},
   "outputs": [
    {
     "data": {
      "text/plain": [
       "7.412642624149934e+26"
      ]
     },
     "execution_count": 6,
     "metadata": {},
     "output_type": "execute_result"
    }
   ],
   "source": [
    "#This function calculates lambda in the expression for particle abundance\n",
    "#where cross_section is particle cross_section, \n",
    "#m is mass, \n",
    "#gstar, is effective number of relativistic degress of freedom\n",
    "#degrees of freedom is g \n",
    "def Lambda(cross_section,m,gstar,g):\n",
    "    #planck mass in Gev \n",
    "    mpl = 1.220890* 10**19\n",
    "    Hubble_constant = 1.66*g**(1/2)*(m**2/mpl)\n",
    "    value = 2*(3.14)**2/45*gstar*((m**3*cross_section)/(Hubble_constant))\n",
    "    return value\n",
    "    \n",
    "Lambda(10**5,80,86.25,9)"
   ]
  },
  {
   "cell_type": "markdown",
   "id": "f6d2acdb-448b-4c81-867b-9db665b08d59",
   "metadata": {},
   "source": [
    "This is the model I came up with by rewriting $dY/dx$ as $dlnY/lnx$\n",
    "\n",
    "$$\\tfrac{dLnY}{dLnx} = - \\tfrac{\\lambda}{x} \\left[Y- \\tfrac{Y_{eq}^2}{Y} \\right]$$"
   ]
  },
  {
   "cell_type": "code",
   "execution_count": 7,
   "id": "d7f7feff-fd56-48db-94e4-00a13dda1331",
   "metadata": {
    "tags": []
   },
   "outputs": [],
   "source": [
    "def model(y,x):\n",
    "    L = 7.412642624149934e+26\n",
    "    dydx = -L/x * (y-Yeq_list(Ts)/y)\n",
    "    return dydx\n"
   ]
  },
  {
   "cell_type": "markdown",
   "id": "2ad97ead-7c27-49c6-ba77-d0f946f650c4",
   "metadata": {},
   "source": [
    "Log of the model I mentioned above."
   ]
  },
  {
   "cell_type": "code",
   "execution_count": 25,
   "id": "95a1fd30-a83f-4a17-8e56-04d6cf223555",
   "metadata": {},
   "outputs": [],
   "source": [
    "def model2(y,x):\n",
    "    L = 7.412642624149934e+26\n",
    "    dydx = -L/np.log(x) * (np.log(y)-Yeq_list(Ts)[1]/np.log(y))\n",
    "    return dydx\n"
   ]
  },
  {
   "cell_type": "markdown",
   "id": "40d84be9-ee0d-4085-a768-373a02cd1a0b",
   "metadata": {},
   "source": [
    "This is the equation given in the book that the question says I need to solve. eq 6.14 "
   ]
  },
  {
   "cell_type": "code",
   "execution_count": 30,
   "id": "321b2bea-c88e-4d0e-8dcb-92272d0a4b74",
   "metadata": {},
   "outputs": [],
   "source": [
    "def model3(y,x):\n",
    "    L = 7.412642624149934e+26\n",
    "    dydx = -L/x**2 * (y**2-Yeq_list(Ts)**2)\n",
    "    return dydx"
   ]
  },
  {
   "cell_type": "code",
   "execution_count": null,
   "id": "b6411eba-1cd7-4a19-95b3-92b6db7bc439",
   "metadata": {},
   "outputs": [],
   "source": [
    "plt.loglog(x,y)\n",
    "plt.xlabel('time')\n",
    "plt.ylabel('y(x)')\n",
    "plt.show()"
   ]
  },
  {
   "cell_type": "markdown",
   "id": "7e34c0a3-039d-4303-8d08-0c4b395e40c5",
   "metadata": {},
   "source": [
    "when I try to solve the ode of any of the 3 models, I get an error that relates to my model diverging. I do not know what to do about it. "
   ]
  },
  {
   "cell_type": "code",
   "execution_count": 8,
   "id": "9ec9c057-c955-4327-b2c9-595123dc8b0b",
   "metadata": {},
   "outputs": [
    {
     "name": "stderr",
     "output_type": "stream",
     "text": [
      "/tmp/ipykernel_10121/1038210693.py:5: RuntimeWarning: overflow encountered in exp\n",
      "  result = quad(lambda p: p**2/(np.exp(np.sqrt(p**2+m**2)/T)-1),0, np.inf)\n"
     ]
    },
    {
     "name": "stdout",
     "output_type": "stream",
     "text": [
      " lsoda--  warning..internal t (=r1) and h (=r2) are\u0000\u0000\n",
      "       such that in the machine, t + h = t on the next step  \n",
      "       (h = step size). solver will continue anyway\u0000\u0000\n",
      "      in above,  r1 =  0.4382026634674D-01   r2 =  0.1443253329003D-31\n",
      " lsoda--  warning..internal t (=r1) and h (=r2) are\u0000\u0000\n",
      "       such that in the machine, t + h = t on the next step  \n",
      "       (h = step size). solver will continue anyway\u0000\u0000\n",
      "      in above,  r1 =  0.4382026634674D-01   r2 =  0.1443253329003D-31\n",
      " lsoda--  warning..internal t (=r1) and h (=r2) are\u0000\u0000\n",
      "       such that in the machine, t + h = t on the next step  \n",
      "       (h = step size). solver will continue anyway\u0000\u0000\n",
      "      in above,  r1 =  0.4382026634674D-01   r2 =  0.2997739074419D-30\n",
      " lsoda--  warning..internal t (=r1) and h (=r2) are\u0000\u0000\n",
      "       such that in the machine, t + h = t on the next step  \n",
      "       (h = step size). solver will continue anyway\u0000\u0000\n",
      "      in above,  r1 =  0.4382026634674D-01   r2 =  0.2997739074419D-30\n",
      " lsoda--  warning..internal t (=r1) and h (=r2) are\u0000\u0000\n",
      "       such that in the machine, t + h = t on the next step  \n",
      "       (h = step size). solver will continue anyway\u0000\u0000\n",
      "      in above,  r1 =  0.4382026634674D-01   r2 =  0.2997739074419D-30\n",
      " lsoda--  warning..internal t (=r1) and h (=r2) are\u0000\u0000\n",
      "       such that in the machine, t + h = t on the next step  \n",
      "       (h = step size). solver will continue anyway\u0000\u0000\n",
      "      in above,  r1 =  0.4382026634674D-01   r2 =  0.1228984055958D-29\n",
      " lsoda--  warning..internal t (=r1) and h (=r2) are\u0000\u0000\n",
      "       such that in the machine, t + h = t on the next step  \n",
      "       (h = step size). solver will continue anyway\u0000\u0000\n",
      "      in above,  r1 =  0.4382026634674D-01   r2 =  0.9329894430653D-30\n",
      " lsoda--  warning..internal t (=r1) and h (=r2) are\u0000\u0000\n",
      "       such that in the machine, t + h = t on the next step  \n",
      "       (h = step size). solver will continue anyway\u0000\u0000\n",
      "      in above,  r1 =  0.4382026634674D-01   r2 =  0.9329894430653D-30\n",
      " lsoda--  warning..internal t (=r1) and h (=r2) are\u0000\u0000\n",
      "       such that in the machine, t + h = t on the next step  \n",
      "       (h = step size). solver will continue anyway\u0000\u0000\n",
      "      in above,  r1 =  0.4382026634674D-01   r2 =  0.9329894430653D-30\n",
      " lsoda--  warning..internal t (=r1) and h (=r2) are\u0000\u0000\n",
      "       such that in the machine, t + h = t on the next step  \n",
      "       (h = step size). solver will continue anyway\u0000\u0000\n",
      "      in above,  r1 =  0.4382026634674D-01   r2 =  0.1865978886131D-29\n",
      " lsoda--  above warning has been issued i1 times.  \u0000\u0000\n",
      "       it will not be issued again for this problem\u0000\u0000\n",
      "      in above message,  i1 =        10\n",
      "[[ 1.00000000e+000  1.00000000e+000  1.00000000e+000 ...  1.00000000e+000\n",
      "   1.00000000e+000  1.00000000e+000]\n",
      " [ 8.83548472e-001  8.69743230e-001  8.55222737e-001 ...  6.01135185e-031\n",
      "   3.06042484e-032 -7.90248904e-035]\n",
      " [ 0.00000000e+000  6.42285340e-323  1.27319748e-313 ...  1.08694442e-322\n",
      "   4.68635886e-310  0.00000000e+000]\n",
      " ...\n",
      " [ 0.00000000e+000  0.00000000e+000  0.00000000e+000 ...  0.00000000e+000\n",
      "   0.00000000e+000  0.00000000e+000]\n",
      " [ 0.00000000e+000  0.00000000e+000  0.00000000e+000 ...  0.00000000e+000\n",
      "   0.00000000e+000  0.00000000e+000]\n",
      " [ 0.00000000e+000  0.00000000e+000  0.00000000e+000 ...  0.00000000e+000\n",
      "   0.00000000e+000  0.00000000e+000]]\n"
     ]
    },
    {
     "name": "stderr",
     "output_type": "stream",
     "text": [
      "/home/ebtihal/miniconda3/lib/python3.9/site-packages/scipy/integrate/odepack.py:247: ODEintWarning: Excess work done on this call (perhaps wrong Dfun type). Run with full_output = 1 to get quantitative information.\n",
      "  warnings.warn(warning_msg, ODEintWarning)\n"
     ]
    }
   ],
   "source": [
    "# initial condition\n",
    "y0 = np.ones(100)\n",
    "\n",
    "# time points\n",
    "x = np.log(80)*np.ones(100)/np.logspace(2,0,100)\n",
    "0\n",
    "# solve ODE\n",
    "y = odeint(model,y0,x)\n",
    "\n",
    "print(y)"
   ]
  },
  {
   "cell_type": "code",
   "execution_count": null,
   "id": "8c889429-34ed-444f-836f-2ebc01342c06",
   "metadata": {},
   "outputs": [],
   "source": []
  }
 ],
 "metadata": {
  "kernelspec": {
   "display_name": "Python 3 (ipykernel)",
   "language": "python",
   "name": "python3"
  },
  "language_info": {
   "codemirror_mode": {
    "name": "ipython",
    "version": 3
   },
   "file_extension": ".py",
   "mimetype": "text/x-python",
   "name": "python",
   "nbconvert_exporter": "python",
   "pygments_lexer": "ipython3",
   "version": "3.9.12"
  }
 },
 "nbformat": 4,
 "nbformat_minor": 5
}
