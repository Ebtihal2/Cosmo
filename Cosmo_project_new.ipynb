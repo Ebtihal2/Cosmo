{
 "cells": [
  {
   "cell_type": "markdown",
   "id": "6b79a9e1-adab-456b-8e99-2a48a49cdf0d",
   "metadata": {},
   "source": [
    "# Objective\n",
    "\n",
    "The goal is to recreate Fig 6.1 in Huterer. The figure shows freezout of particle species. As the universe expands particles are unable to find one another to annhilate. Therefore, their abundance (number density to entropie ratio) freezes out. Please recall that the Annhilation rate is $\\Gamma = n \\sigma v$ where $n$ is the number desnity, $\\sigma v$ is the particle cross section. The hubble parameter scales as follows $H = T^2/m_{pl}$, so a larger cross section implies a lower freezeout abundance. "
   ]
  },
  {
   "cell_type": "markdown",
   "id": "3dd746d7-9fb3-4ddd-a452-2d94596f2a75",
   "metadata": {},
   "source": [
    "# Approach\n",
    "1) The equilibrium abundance $Y_{eq}$ can be calculated by integrating the boltzmann equation using scipy for various values of m and t.\n",
    "$$n = \\dfrac{g}{(2 \\pi)^3} \\int_{0}^{\\inf} \\dfrac{p^2}{exp(\\sqrt{p^2+m^2}/T)-1} \\,dp $$\n",
    "2) The given differential equation describing the change in abundance $Y$ as a function of the mass temperature ration $x$ can be solved numerically using Odeint. \n",
    "$$\\dfrac{dY}{dx} = - \\dfrac{\\lambda}{x^2} \\left[Y^2-Y_{eq}^2 \\right]$$ where we use the array of $Y_{eq}$ found in step one. \n",
    "\n",
    "3) Graphing the results of the two previous steps should yield Fig 6.1. \n",
    "\n",
    "The code used is given below."
   ]
  },
  {
   "cell_type": "code",
   "execution_count": 2,
   "id": "f7eb4f4d-6a0f-418a-a8bd-a2670dd7ce10",
   "metadata": {},
   "outputs": [],
   "source": [
    "#Importing needed libraries\n",
    "import numpy as np\n",
    "import matplotlib.pyplot as plt\n",
    "from scipy.integrate import quad\n",
    "from sympy import *\n",
    "from scipy.integrate import odeint\n"
   ]
  },
  {
   "cell_type": "code",
   "execution_count": 90,
   "id": "0cdcaf57-929e-48ff-83ab-282261b2be54",
   "metadata": {},
   "outputs": [],
   "source": [
    "def Boltzmann_eq(p,T,m):\n",
    "    '''\n",
    "    This function defines the boltzmann equation that needs to be integrated.\n",
    "    p: pressure \n",
    "    T is temeperature\n",
    "    m is mass \n",
    "    '''\n",
    "    integrand = p**2/(np.exp(np.sqrt(p**2+m**2)/T)-1)\n",
    "    return integrand\n",
    "\n",
    "def Equilibrium_abundance(T,m,g):\n",
    "    '''This function calculates the Equilibrium Abundance by integrating the Boltzmann equation\n",
    "    T is temeperature\n",
    "    m is mass \n",
    "    g is internal degrees of freedom\n",
    "    '''\n",
    "    result = quad(Boltzmann_eq,0, 10000000, args = (T,m))\n",
    "    Value = ((g/(2*np.pi)**3)*result[0])/T**3\n",
    "    return Value"
   ]
  },
  {
   "cell_type": "code",
   "execution_count": 55,
   "id": "15b007e4-65bf-42ed-89e6-d292e5cd9e30",
   "metadata": {},
   "outputs": [],
   "source": [
    "\n",
    "x = np.linspace(1,100,10000)\n",
    "def Yeq_list(xlist,m,g):\n",
    "    '''This function calculates the Y_eq array\n",
    "    xlist is a list of mass temperature ratios \n",
    "    m is mass \n",
    "    g is internal degrees of freedom'''\n",
    "    Yeq = []\n",
    "    for x1 in x:\n",
    "        Yeq.append(Equilibrium_abundance(m/x1,m,g))\n",
    "    return np.array(Yeq)\n",
    "\n"
   ]
  },
  {
   "cell_type": "code",
   "execution_count": 95,
   "id": "a01cf6ef-59f6-4358-a354-e0207d1de222",
   "metadata": {},
   "outputs": [
    {
     "name": "stderr",
     "output_type": "stream",
     "text": [
      "/tmp/ipykernel_63009/3741971270.py:8: RuntimeWarning: overflow encountered in exp\n",
      "  integrand = p**2/(np.exp(np.sqrt(p**2+m**2)/T)-1)\n"
     ]
    },
    {
     "data": {
      "image/png": "[encoded data removed]",
      "text/plain": [
       "<Figure size 432x288 with 1 Axes>"
      ]
     },
     "metadata": {
      "needs_background": "light"
     },
     "output_type": "display_data"
    }
   ],
   "source": [
    "#This is a plot of the list of quilibrium abundance calculated by the function above. \n",
    "#The result found matches that of the plot. \n",
    "x = np.linspace(1,100,10000)\n",
    "plt.loglog(x,Yeq_list(x,10**4,9),label = \"$Y_{eq}$\")\n",
    "plt.xlim(1,100)\n",
    "plt.ylim(10**-12,1)\n",
    "#plt.loglog(x,y)\n",
    "plt.xlabel('$x = m/T$')\n",
    "plt.ylabel('$Y$')\n",
    "plt.legend()\n",
    "plt.show()\n"
   ]
  },
  {
   "cell_type": "code",
   "execution_count": 68,
   "id": "e671e623-3242-4c69-9cbf-c479d8023bbe",
   "metadata": {},
   "outputs": [],
   "source": [
    "def model(y,x,L):\n",
    "    '''This function represents the differential equation we are interested in solving \n",
    "    y is particle abundance\n",
    "    x is the mass temperature ratio\n",
    "    L is the constant lambda'''\n",
    "    dydx = -L/x**2 * (y**2-Yeq_list(x,10**4,9)**2)\n",
    "    return dydx"
   ]
  },
  {
   "cell_type": "code",
   "execution_count": null,
   "id": "1e05238c-f8b2-4b0f-a1a8-cb1c9b9bd85f",
   "metadata": {},
   "outputs": [
    {
     "name": "stderr",
     "output_type": "stream",
     "text": [
      "/tmp/ipykernel_63009/765777185.py:2: RuntimeWarning: overflow encountered in exp\n",
      "  integrand = p**2/(np.exp(np.sqrt(p**2+m**2)/T)-1)\n"
     ]
    }
   ],
   "source": [
    "# initial condition\n",
    "y0 = 0.5*10**(-4)*np.ones(100)\n",
    "\n",
    "# time points\n",
    "x= np.linspace(1,100,100)\n",
    "\n",
    "# solve ODE with given Lambdas\n",
    "L= 10**5\n",
    "y1= odeint(model,y0,x,args=(L,))\n",
    "L = 10**7\n",
    "y2= odeint(model,y0,x,args=(L,))\n",
    "L = 10**9\n",
    "y3= odeint(model,y0,x,args=(L,))\n"
   ]
  },
  {
   "cell_type": "code",
   "execution_count": 103,
   "id": "b29840f7-5136-4e61-bc3f-24afc794b1a9",
   "metadata": {},
   "outputs": [
    {
     "name": "stderr",
     "output_type": "stream",
     "text": [
      "/tmp/ipykernel_63009/3741971270.py:8: RuntimeWarning: overflow encountered in exp\n",
      "  integrand = p**2/(np.exp(np.sqrt(p**2+m**2)/T)-1)\n"
     ]
    },
    {
     "data": {
      "image/png": "[encoded data removed]",
      "text/plain": [
       "<Figure size 432x288 with 1 Axes>"
      ]
     },
     "metadata": {
      "needs_background": "light"
     },
     "output_type": "display_data"
    }
   ],
   "source": [
    "#This is the plot of the solutions of the ODEs and the equilibrium abundance. \n",
    "x = np.linspace(1,100,100)\n",
    "x1= np.linspace(10,100,10000)\n",
    "plt.loglog(x,Yeq_list(x,10**4,9),label = \"$Y_{eq}$\" )\n",
    "plt.loglog(x,y1[2],label = \"L=$10^5$\",linestyle='dashed')\n",
    "plt.loglog(x,y2[2],label = \"L=$10^7$\",linestyle='dashed')\n",
    "plt.loglog(x,y3[2],label = \"L=$10^9$\",linestyle='dashed')\n",
    "plt.xlim(1,100)\n",
    "plt.ylim(10**-12,1)\n",
    "#plt.loglog(x,y)\n",
    "plt.xlabel('m/T')\n",
    "plt.ylabel('Y')\n",
    "plt.legend()\n",
    "plt.show()"
   ]
  },
  {
   "cell_type": "code",
   "execution_count": null,
   "id": "e36ee306-a43e-4f30-9cd1-8f8e891eb80b",
   "metadata": {},
   "outputs": [],
   "source": []
  }
 ],
 "metadata": {
  "kernelspec": {
   "display_name": "NERSC Python",
   "language": "python",
   "name": "python3"
  },
  "language_info": {
   "codemirror_mode": {
    "name": "ipython",
    "version": 3
   },
   "file_extension": ".py",
   "mimetype": "text/x-python",
   "name": "python",
   "nbconvert_exporter": "python",
   "pygments_lexer": "ipython3",
   "version": "3.9.7"
  }
 },
 "nbformat": 4,
 "nbformat_minor": 5
}
